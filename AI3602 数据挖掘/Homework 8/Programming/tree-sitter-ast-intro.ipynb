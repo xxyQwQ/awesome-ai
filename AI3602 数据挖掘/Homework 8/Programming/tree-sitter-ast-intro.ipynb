{
 "cells": [
  {
   "cell_type": "markdown",
   "metadata": {},
   "source": [
    "# A Beginner's Guide to tree-sitter\n",
    "\n",
    "> From AI3602 with love ❤️\n",
    "\n",
    "In this tutorial, we briefly illustrate how we can traverse a tree-sitter AST."
   ]
  },
  {
   "cell_type": "markdown",
   "metadata": {},
   "source": [
    "## Introduction\n",
    "\n",
    "We consider this Java program\n",
    "\n",
    "```java\n",
    "public class MyClass {\n",
    "    public static void MyMethod() {\n",
    "        System.out.println(\"Hello world!\");\n",
    "    }\n",
    "}\n",
    "```\n",
    "\n",
    "and its corresponding AST (visualized by [tree-sitter playground](https://tree-sitter.github.io/tree-sitter/playground)). Note that each node in this AST has a type (e.g., the root node is of type `program`, and there are also nodes of other types such as `identifier`, `method_invocation` and `string_literal`).\n",
    "\n",
    "```plaintext\n",
    "program [0, 0] - [5, 0]\n",
    "└── class_declaration [0, 0] - [4, 1]\n",
    "    ├── modifiers [0, 0] - [0, 6]\n",
    "    ├── name: identifier [0, 13] - [0, 20]\n",
    "    └── body: class_body [0, 21] - [4, 1]\n",
    "        └── method_declaration [1, 4] - [3, 5]\n",
    "            ├── modifiers [1, 4] - [1, 17]\n",
    "            ├── type: void_type [1, 18] - [1, 22]\n",
    "            ├── name: identifier [1, 23] - [1, 31]\n",
    "            ├── parameters: formal_parameters [1, 31] - [1, 33]\n",
    "            └── body: block [1, 34] - [3, 5]\n",
    "                └── expression_statement [2, 8] - [2, 43]\n",
    "                    └── method_invocation [2, 8] - [2, 42]\n",
    "                        ├── object: field_access [2, 8] - [2, 18]\n",
    "                        │   ├── object: identifier [2, 8] - [2, 14]\n",
    "                        │   └── field: identifier [2, 15] - [2, 18]\n",
    "                        ├── name: identifier [2, 19] - [2, 26]\n",
    "                        └── arguments: argument_list [2, 26] - [2, 42]\n",
    "                            └── string_literal [2, 27] - [2, 41]\n",
    "                                └── string_fragment [2, 28] - [2, 40]\n",
    "```"
   ]
  },
  {
   "cell_type": "code",
   "execution_count": 1,
   "metadata": {},
   "outputs": [],
   "source": [
    "import tree_sitter\n",
    "from utils import pprint_tree\n",
    "\n",
    "code = \"\"\"\n",
    "public class MyClass {\n",
    "    public static void MyMethod() {\n",
    "        System.out.println(\"Hello world!\");\n",
    "    }\n",
    "}\n",
    "\"\"\""
   ]
  },
  {
   "cell_type": "code",
   "execution_count": 2,
   "metadata": {},
   "outputs": [
    {
     "name": "stderr",
     "output_type": "stream",
     "text": [
      "d:\\Software\\anaconda3\\envs\\pytorch\\lib\\site-packages\\tree_sitter\\__init__.py:36: FutureWarning: Language(path, name) is deprecated. Use Language(ptr, name) instead.\n",
      "  warn(\"{} is deprecated. Use {} instead.\".format(old, new), FutureWarning)\n"
     ]
    }
   ],
   "source": [
    "# Load the tree-sitter-python library\n",
    "parser = tree_sitter.Parser()\n",
    "parser.set_language(tree_sitter.Language(\"./parser/my-languages.so\", \"java\"))\n",
    "\n",
    "# parse the code\n",
    "tree = parser.parse(code.encode())\n",
    "root = tree.root_node\n"
   ]
  },
  {
   "cell_type": "markdown",
   "metadata": {},
   "source": [
    "The root of a `tree-sitter-java` AST always have the type `program`. In this AST, the root node contains only one child (which is the class declaration)."
   ]
  },
  {
   "cell_type": "code",
   "execution_count": 3,
   "metadata": {},
   "outputs": [
    {
     "name": "stdout",
     "output_type": "stream",
     "text": [
      "root node type: program\n",
      "root node child count: 1\n"
     ]
    }
   ],
   "source": [
    "print(\"root node type:\", root.type)  # \"program\"\n",
    "print(\"root node child count:\", root.child_count)  # 1"
   ]
  },
  {
   "cell_type": "markdown",
   "metadata": {},
   "source": [
    "We can access the children of a node by `node.children[idx]`. `root.children[0]` should give us the class declaration node, which is the first (and only) child of the root `program` node.\n",
    "\n",
    "Observe that the class declaration node has 4 children."
   ]
  },
  {
   "cell_type": "code",
   "execution_count": 4,
   "metadata": {},
   "outputs": [
    {
     "name": "stdout",
     "output_type": "stream",
     "text": [
      "child 0 of root node: class_declaration\n",
      "class_decl_node child count: 4\n"
     ]
    }
   ],
   "source": [
    "class_decl_node = root.children[0]\n",
    "print(\"child 0 of root node:\", class_decl_node.type)  # \"class_declaration\"\n",
    "print(\"class_decl_node child count:\", class_decl_node.child_count)  # 4"
   ]
  },
  {
   "cell_type": "markdown",
   "metadata": {},
   "source": [
    "If we pretty-print this tree, we can see the 4 children of the `class_declaration` are respectively\n",
    "\n",
    "1. A `modifiers` node. This corresponds to the keyword `public`.\n",
    "2. A `class` node. This is simply the keyword `class`.\n",
    "3. An `identifier` node. This is the node for the name of the class `MyClass` (an identifier).\n",
    "4. A `class_body` node. This node corresponds to the main body of the class.\n",
    "\n"
   ]
  },
  {
   "cell_type": "code",
   "execution_count": 5,
   "metadata": {},
   "outputs": [
    {
     "name": "stdout",
     "output_type": "stream",
     "text": [
      "child 0 of class_decl_node: modifiers\n",
      "child 1 of class_decl_node: class\n",
      "child 2 of class_decl_node: identifier\n",
      "child 3 of class_decl_node: class_body\n",
      "program\n",
      "└── class_declaration\n",
      "    ├── modifiers\n",
      "    │   └── public\n",
      "    ├── class\n",
      "    ├── identifier (MyClass)\n",
      "    └── class_body\n",
      "        ├── {\n",
      "        ├── method_declaration\n",
      "        │   ├── modifiers\n",
      "        │   │   ├── public\n",
      "        │   │   └── static\n",
      "        │   ├── void_type (void)\n",
      "        │   ├── identifier (MyMethod)\n",
      "        │   ├── formal_parameters\n",
      "        │   │   ├── (\n",
      "        │   │   └── )\n",
      "        │   └── block\n",
      "        │       ├── {\n",
      "        │       ├── expression_statement\n",
      "        │       │   ├── method_invocation\n",
      "        │       │   │   ├── field_access\n",
      "        │       │   │   │   ├── identifier (System)\n",
      "        │       │   │   │   ├── .\n",
      "        │       │   │   │   └── identifier (out)\n",
      "        │       │   │   ├── .\n",
      "        │       │   │   ├── identifier (println)\n",
      "        │       │   │   └── argument_list\n",
      "        │       │   │       ├── (\n",
      "        │       │   │       ├── string_literal\n",
      "        │       │   │       │   ├── \"\n",
      "        │       │   │       │   ├── string_fragment (Hello world!)\n",
      "        │       │   │       │   └── \"\n",
      "        │       │   │       └── )\n",
      "        │       │   └── ;\n",
      "        │       └── }\n",
      "        └── }\n",
      "\n",
      "None\n"
     ]
    }
   ],
   "source": [
    "for i, child in enumerate(class_decl_node.children):\n",
    "    print(f\"child {i} of class_decl_node:\", child.type)\n",
    "\n",
    "print(pprint_tree(root))"
   ]
  },
  {
   "cell_type": "markdown",
   "metadata": {},
   "source": [
    "Assume we now want to extract the class name `MyClass`, since we already know that the `identifier` node for `MyClass` is the third children of `class_declaration`, we can directly access it by its index."
   ]
  },
  {
   "cell_type": "code",
   "execution_count": 6,
   "metadata": {},
   "outputs": [
    {
     "name": "stdout",
     "output_type": "stream",
     "text": [
      "name_node type: identifier\n",
      "name_node text: MyClass\n"
     ]
    }
   ],
   "source": [
    "name_node = class_decl_node.children[2]\n",
    "print(\"name_node type:\", name_node.type)\n",
    "print(\"name_node text:\", name_node.text.decode())"
   ]
  },
  {
   "cell_type": "markdown",
   "metadata": {},
   "source": [
    "This does not look very difficult, is it? However, accessing children by its index is **NOT recommended**!\n",
    "\n",
    "See the example below. `another_code` is also a valid Java program and it produces a valid Java AST. However, there is no `public` modifiers before the class declaration, and hence the `class_declaration` node only contains 3 children!\n",
    "\n",
    "If we continue to access the identifier node by its index, we would get incorrect results."
   ]
  },
  {
   "cell_type": "code",
   "execution_count": 7,
   "metadata": {},
   "outputs": [
    {
     "name": "stdout",
     "output_type": "stream",
     "text": [
      "number of children of class_declaration node: 3\n",
      "child 0 of class_declaration node: class\n",
      "child 1 of class_declaration node: identifier\n",
      "child 2 of class_declaration node: class_body\n",
      "not_the_name_node type: class_body\n"
     ]
    }
   ],
   "source": [
    "another_code = \"\"\"\n",
    "class Boom {\n",
    "    public static void Foo() {\n",
    "        System.out.println(\"Explode!\");\n",
    "    }\n",
    "}\n",
    "\"\"\"\n",
    "\n",
    "another_tree = parser.parse(another_code.encode())\n",
    "another_root = another_tree.root_node\n",
    "\n",
    "# this class_declaration node has ONLY 3 CHILDREN\n",
    "print(\n",
    "    \"number of children of class_declaration node:\", another_root.children[0].child_count\n",
    ")\n",
    "for i, child in enumerate(another_root.children[0].children):\n",
    "    print(f\"child {i} of class_declaration node:\", child.type)\n",
    "\n",
    "# we can no longer access the name node using index 2\n",
    "another_cls_decl_node = another_root.children[0]\n",
    "not_the_name_node = another_cls_decl_node.children[2]\n",
    "\n",
    "# the child node on index 2 is now the class_body, instead of the name node!\n",
    "print(\"not_the_name_node type:\", not_the_name_node.type)"
   ]
  },
  {
   "attachments": {
    "image.png": {
     "image/png": "[encoded data removed]"
    }
   },
   "cell_type": "markdown",
   "metadata": {},
   "source": [
    "This is because the `modifier` child in the `class_declaration` node is OPTIONAL. I.e., some `class_declaration` nodes might not contain any modifiers.\n",
    "\n",
    "Then how can we precisely access the name node?\n",
    "\n",
    "![image.png](attachment:image.png)\n",
    "\n",
    "If we look at the AST visualization on tree-sitter playground, we can find that some child nodes contain \"prefixes\" (e.g., `name:` and `body:`)."
   ]
  },
  {
   "cell_type": "markdown",
   "metadata": {},
   "source": [
    "These prefixes are the **names** of a certain child. While the index of a children might change, its name will never change. That is, the name child of the `class_declaration` node always has the name `name`, and the main body of the class declaration always has the name `body`.\n",
    "\n",
    "We can then access the children by their names, which is will give us more stable results."
   ]
  },
  {
   "cell_type": "code",
   "execution_count": 8,
   "metadata": {},
   "outputs": [
    {
     "name": "stdout",
     "output_type": "stream",
     "text": [
      "name_node type: identifier\n",
      "text: MyClass\n",
      "another_name_node type: identifier\n",
      "text: Boom\n"
     ]
    }
   ],
   "source": [
    "name_node = class_decl_node.child_by_field_name(\"name\")\n",
    "print(\"name_node type:\", name_node.type)\n",
    "print(\"text:\", name_node.text.decode())\n",
    "\n",
    "another_name_node = another_cls_decl_node.child_by_field_name(\"name\")\n",
    "print(\"another_name_node type:\", another_name_node.type)\n",
    "print(\"text:\", another_name_node.text.decode())"
   ]
  },
  {
   "cell_type": "markdown",
   "metadata": {},
   "source": [
    "Therefore the names provide a more robust way of accessing child nodes. In addition to `child_by_field_name`, there is also a method `children_by_field_name`, which returns a list of child nodes. This can be useful when multiple child nodes share a same name."
   ]
  },
  {
   "cell_type": "code",
   "execution_count": 9,
   "metadata": {},
   "outputs": [
    {
     "name": "stdout",
     "output_type": "stream",
     "text": [
      "number of declarators: 2\n",
      "declarator type: variable_declarator\n",
      "declarator text: a\n",
      "\n",
      "declarator type: variable_declarator\n",
      "declarator text: b\n",
      "\n"
     ]
    }
   ],
   "source": [
    "vardecl_code = \"Int a, b;\"  # put this line into playground to visualize it!\n",
    "\n",
    "vardecl_tree = parser.parse(vardecl_code.encode())\n",
    "vardecl_root = vardecl_tree.root_node\n",
    "local_var_decl_nodes = vardecl_root.children[0]\n",
    "\n",
    "declarators = local_var_decl_nodes.children_by_field_name(\"declarator\")\n",
    "print(f\"number of declarators: {len(declarators)}\")\n",
    "\n",
    "for declarator in declarators:\n",
    "    print(\"declarator type:\", declarator.type)\n",
    "    print(\"declarator text:\", declarator.text.decode())\n",
    "    print()"
   ]
  },
  {
   "cell_type": "markdown",
   "metadata": {},
   "source": [
    "## Grammar.js\n",
    "\n",
    "But then comes another question: how do we know what types of children the node contains?\n",
    "\n",
    "1. The intuitive (but less recommended) way is to pretty print the tree, or use the playground. However, hand-crafted code might miss certain code structures. While in general this method will give us the right answer (for most of the time), it might not be able to cover certain corner cases.\n",
    "2. A more advanced and complete way is to refer to the `grammar.js` at [tree-sitter-java GitHub Repository](https://github.com/tree-sitter/tree-sitter-java/blob/master/grammar.js).\n",
    "\n",
    "tree-sitter supports multiple languages, and for each language, there is a `grammar.js` that specifies the grammatical structure of the programming language. This `grammar.js` file also defines the structure of the AST.\n",
    "\n",
    "For example, for the `class_declaration` node in tree-sitter-java, the corresponding grammar is\n",
    "\n",
    "```js\n",
    "// https://github.com/tree-sitter/tree-sitter-java/blob/master/grammar.js#L879\n",
    "class_declaration: $ => seq(\n",
    "    optional($.modifiers),\n",
    "    'class',\n",
    "    field('name', $.identifier),\n",
    "    optional(field('type_parameters', $.type_parameters)),\n",
    "    optional(field('superclass', $.superclass)),\n",
    "    optional(field('interfaces', $.super_interfaces)),\n",
    "    optional(field('permits', $.permits)),\n",
    "    field('body', $.class_body),\n",
    "),\n",
    "```\n",
    "\n",
    "It means a `class_declaration` node is a sequence (`seq`) at most 8 nodes, among which the `'class'` keyword, the `name` node, the `body` node are mandatory, and the other 5 nodes are optional.\n",
    "\n",
    "Observe that `field('name', $.identifier)` defines a child field with the name `name` and type `identifier`. This means that a `class_declaration` node will *always* has a child whose name is `name`, and this `name` child will *always* has a type of `identifier`. Therefore, we can use `node.child_by_field_name(\"name\")` to access this child, and we can safely expect a node of type `identifier`.\n",
    "\n",
    "Similarly, for a `while` statement,\n",
    "\n",
    "```js\n",
    "// https://github.com/tree-sitter/tree-sitter-java/blob/master/grammar.js#L672\n",
    "while_statement: $ => seq(\n",
    "    'while',\n",
    "    field('condition', $.parenthesized_expression),\n",
    "    field('body', $.statement),\n",
    "),\n",
    "```\n",
    "\n",
    "It contains 3 nodes, a `'while'` keyword, a loop condition (with type `parenthesis_expression`) named `condition`, and a loop body (with type `statement`) named `body`.\n",
    "\n",
    "Using this grammar specification, we can infer the number of children and their types for each AST node. Then we can access the corresponding child with either `node.child_by_field_name()` or `node.children[i]`.\n"
   ]
  },
  {
   "cell_type": "markdown",
   "metadata": {},
   "source": [
    "## Wrapping Up\n",
    "\n",
    "Combining what we have introduced so far, assume we want to implement a function that extracts all class names.\n",
    "\n",
    "We already know that the class name is stored as an `identifier`, under `class_declaration`, and can be accessed by name `name`.\n",
    "\n",
    "Therefore we can use a DFS to traverse all nodes\n",
    "\n",
    "- If the current node type is `class_declaration`, we can then access its name by its `name` field.\n",
    "- We then visit the children of current node recursively."
   ]
  },
  {
   "cell_type": "code",
   "execution_count": 10,
   "metadata": {},
   "outputs": [
    {
     "name": "stdout",
     "output_type": "stream",
     "text": [
      "Class name found: Fruit\n",
      "Class name found: Orange\n",
      "Class name found: Apple\n"
     ]
    }
   ],
   "source": [
    "def find_class_names(node: tree_sitter.Node):\n",
    "\n",
    "    # process class_declaration nodes\n",
    "    if node.type == \"class_declaration\":\n",
    "        name_node = node.child_by_field_name(\"name\")\n",
    "        assert name_node.type == \"identifier\"\n",
    "\n",
    "        print(f\"Class name found: {name_node.text.decode()}\")\n",
    "\n",
    "    # recursively visit children\n",
    "    for child in node.children:\n",
    "        find_class_names(child)\n",
    "\n",
    "\n",
    "final_code = \"\"\"\n",
    "public class Fruit {\n",
    "    // No, don't ask me why a fruit only has a sourness property :P\n",
    "\tpublic bool isSour() {}\n",
    "}\n",
    "\n",
    "public class Orange extends Fruit {\n",
    "\tpublic bool isSour() { return true; }\n",
    "}\n",
    "\n",
    "@override\n",
    "public class Apple extends Fruit {\n",
    "    public bool isSour() { return false; }\n",
    "}\n",
    "\"\"\"\n",
    "\n",
    "final_tree = parser.parse(final_code.encode())\n",
    "final_root = final_tree.root_node\n",
    "assert not final_root.has_error\n",
    "\n",
    "find_class_names(final_root)\n"
   ]
  }
 ],
 "metadata": {
  "kernelspec": {
   "display_name": "torch112",
   "language": "python",
   "name": "python3"
  },
  "language_info": {
   "codemirror_mode": {
    "name": "ipython",
    "version": 3
   },
   "file_extension": ".py",
   "mimetype": "text/x-python",
   "name": "python",
   "nbconvert_exporter": "python",
   "pygments_lexer": "ipython3",
   "version": "3.10.11"
  }
 },
 "nbformat": 4,
 "nbformat_minor": 2
}
