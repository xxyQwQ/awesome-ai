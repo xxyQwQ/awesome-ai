{
 "cells": [
  {
   "cell_type": "code",
   "execution_count": 1,
   "metadata": {},
   "outputs": [],
   "source": [
    "import numpy as np\n",
    "import jittor as jt\n",
    "from dataset import CIFAR10\n",
    "from model import CNNModel\n",
    "import utils\n",
    "\n",
    "np.random.seed(0)\n",
    "jt.set_global_seed(0)\n",
    "jt.flags.use_cuda = 1"
   ]
  },
  {
   "cell_type": "code",
   "execution_count": null,
   "metadata": {},
   "outputs": [],
   "source": [
    "model = CNNModel()\n",
    "loader_train = CIFAR10('./dataset', group='train', mode='origin', batch=64)\n",
    "loader_test = CIFAR10('./dataset', group='test', mode='origin', batch=64)\n",
    "record_train, record_test = utils.train(model, (loader_train, loader_test), total_epoch=3, learning_rate=1e-3, save_name='cnn_origin')\n",
    "utils.plot(record_train, record_test, save_name='cnn_origin')"
   ]
  },
  {
   "cell_type": "code",
   "execution_count": null,
   "metadata": {},
   "outputs": [],
   "source": [
    "model = CNNModel()\n",
    "loader_train = CIFAR10('./dataset', group='train', mode='reduced', batch=64)\n",
    "loader_test = CIFAR10('./dataset', group='test', mode='reduced', batch=64)\n",
    "record_train, record_test = utils.train(model, (loader_train, loader_test), total_epoch=30, learning_rate=1e-3, save_name='cnn_reduced')\n",
    "utils.plot(record_train, record_test, save_name='cnn_reduced')"
   ]
  },
  {
   "cell_type": "code",
   "execution_count": null,
   "metadata": {},
   "outputs": [],
   "source": [
    "model = CNNModel()\n",
    "loader_train = CIFAR10('./dataset', group='train', mode='enhanced', batch=64)\n",
    "loader_test = CIFAR10('./dataset', group='test', mode='enhanced', batch=64)\n",
    "record_train, record_test = utils.train(model, (loader_train, loader_test), total_epoch=30, learning_rate=1e-3, save_name='cnn_enhanced')\n",
    "utils.plot(record_train, record_test, save_name='cnn_enhanced')"
   ]
  },
  {
   "cell_type": "code",
   "execution_count": null,
   "metadata": {},
   "outputs": [],
   "source": [
    "model = CNNModel()\n",
    "loader_train = CIFAR10('./dataset', group='train', mode='reduced', batch=64)\n",
    "loader_test = CIFAR10('./dataset', group='test', mode='reduced', batch=64)\n",
    "record_train, record_test = utils.train(model, (loader_train, loader_test), total_epoch=30, learning_rate=1e-3, save_name='cnn_generalized', generalize=True)\n",
    "utils.plot(record_train, record_test, save_name='cnn_generalized')"
   ]
  },
  {
   "cell_type": "code",
   "execution_count": null,
   "metadata": {},
   "outputs": [],
   "source": [
    "model = CNNModel()\n",
    "loader_train = CIFAR10('./dataset', group='train', mode='enhanced', batch=64)\n",
    "loader_test = CIFAR10('./dataset', group='test', mode='enhanced', batch=64)\n",
    "record_train, record_test = utils.train(model, (loader_train, loader_test), total_epoch=30, learning_rate=1e-3, save_name='cnn_combined', generalize=True)\n",
    "utils.plot(record_train, record_test, save_name='cnn_combined')"
   ]
  }
 ],
 "metadata": {
  "kernelspec": {
   "display_name": "jittor",
   "language": "python",
   "name": "python3"
  },
  "language_info": {
   "codemirror_mode": {
    "name": "ipython",
    "version": 3
   },
   "file_extension": ".py",
   "mimetype": "text/x-python",
   "name": "python",
   "nbconvert_exporter": "python",
   "pygments_lexer": "ipython3",
   "version": "3.10.9"
  },
  "orig_nbformat": 4
 },
 "nbformat": 4,
 "nbformat_minor": 2
}
