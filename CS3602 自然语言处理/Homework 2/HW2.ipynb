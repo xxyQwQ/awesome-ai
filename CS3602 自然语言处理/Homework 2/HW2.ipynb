{
 "cells": [
  {
   "cell_type": "markdown",
   "metadata": {},
   "source": [
    "# 作业二：实现Word2Vec的连续词袋模型\n",
    "姓名：薛翔元\n",
    "学号：521030910387"
   ]
  },
  {
   "cell_type": "code",
   "execution_count": 119,
   "metadata": {
    "ExecuteTime": {
     "end_time": "2023-11-05T06:35:38.715014900Z",
     "start_time": "2023-11-05T06:35:35.552612900Z"
    },
    "collapsed": false
   },
   "outputs": [
    {
     "name": "stdout",
     "output_type": "stream",
     "text": [
      "Requirement already satisfied: numpy in d:\\software\\anaconda3\\envs\\pytorch\\lib\\site-packages (1.24.3)\n",
      "Requirement already satisfied: tqdm in d:\\software\\anaconda3\\envs\\pytorch\\lib\\site-packages (4.66.1)\n",
      "Requirement already satisfied: colorama in d:\\software\\anaconda3\\envs\\pytorch\\lib\\site-packages (from tqdm) (0.4.6)\n",
      "Note: you may need to restart the kernel to use updated packages.\n"
     ]
    }
   ],
   "source": [
    "%pip install numpy tqdm"
   ]
  },
  {
   "cell_type": "markdown",
   "metadata": {},
   "source": [
    "需要 Python 版本大于等于 3.6，并检查是否已安装所依赖的第三方库。（若没有安装可以执行上面的代码块）"
   ]
  },
  {
   "cell_type": "code",
   "execution_count": 120,
   "metadata": {},
   "outputs": [
    {
     "name": "stdout",
     "output_type": "stream",
     "text": [
      "All libraries are satisfied.\n"
     ]
    }
   ],
   "source": [
    "import importlib\n",
    "import sys\n",
    "\n",
    "assert sys.version_info[0] == 3\n",
    "assert sys.version_info[1] >= 6\n",
    "\n",
    "requirements = [\"numpy\", \"tqdm\"]\n",
    "_OK = True\n",
    "\n",
    "for name in requirements:\n",
    "    try:\n",
    "        importlib.import_module(name)\n",
    "    except ImportError:\n",
    "        print(f\"Require: {name}\")\n",
    "        _OK = False\n",
    "\n",
    "if not _OK:\n",
    "    exit(-1)\n",
    "else:\n",
    "    print(\"All libraries are satisfied.\")"
   ]
  },
  {
   "cell_type": "markdown",
   "metadata": {},
   "source": [
    "## 辅助代码\n",
    "\n",
    "该部分包含：用于给句子分词的分词器 `tokenizer`、用于构造数据的数据集类 `Dataset` 和用于构建词表的词表类 `Vocab`。\n",
    "\n",
    "> 注: 该部分无需实现。"
   ]
  },
  {
   "cell_type": "markdown",
   "metadata": {},
   "source": [
    "### 分词器\n",
    "\n",
    "该分词器会：\n",
    "1. 将所有字母转为小写；\n",
    "2. 将句子分为连续的字母序列（word）"
   ]
  },
  {
   "cell_type": "code",
   "execution_count": 121,
   "metadata": {},
   "outputs": [
    {
     "name": "stdout",
     "output_type": "stream",
     "text": [
      "['it', 's', 'useful']\n"
     ]
    }
   ],
   "source": [
    "import re\n",
    "from typing import List\n",
    "\n",
    "def tokenizer(line: str) -> List[str]:\n",
    "    line = line.lower()\n",
    "    tokens = list(filter(lambda x: len(x) > 0, re.split(r\"\\W\", line)))\n",
    "    return tokens\n",
    "\n",
    "print(tokenizer(\"It's  useful. \"))\n"
   ]
  },
  {
   "cell_type": "markdown",
   "metadata": {},
   "source": [
    "### 数据集类\n",
    "\n",
    "通过设定窗长 `window_size`，该数据集类会读取 `corpus` 中的行，并解析返回 `(context, target)` 元组。\n",
    "\n",
    "假如一个句子序列为 `a b c d e`，且此时 `window_size=2`，`Dataset` 会返回：\n",
    "\n",
    "```\n",
    "([b, c], a)\n",
    "([a, c, d], b)\n",
    "([a, b, d, e], c)\n",
    "([b, c, e], d)\n",
    "([c, d], e)\n",
    "```"
   ]
  },
  {
   "cell_type": "code",
   "execution_count": 122,
   "metadata": {},
   "outputs": [],
   "source": [
    "class Dataset:\n",
    "    def __init__(self, corpus: str, window_size: int):\n",
    "        \"\"\"\n",
    "        :param corpus: 语料路径\n",
    "        :param window_size: 窗口长度\n",
    "        \"\"\"\n",
    "        self.corpus = corpus\n",
    "        self.window_size = window_size\n",
    "\n",
    "    def __iter__(self):\n",
    "        with open(self.corpus, encoding=\"utf8\") as f:\n",
    "            for line in f:\n",
    "                tokens = tokenizer(line)\n",
    "                if len(tokens) <= 1:\n",
    "                    continue\n",
    "                for i, target in enumerate(tokens):\n",
    "                    left_context = tokens[max(0, i - self.window_size): i]\n",
    "                    right_context = tokens[i + 1: i + 1 + self.window_size]\n",
    "                    context = left_context + right_context\n",
    "                    yield context, target\n",
    "\n",
    "    def __len__(self):\n",
    "        \"\"\" 统计样本语料中的样本个数 \"\"\"\n",
    "        len_ = getattr(self, \"len_\", None)\n",
    "        if len_ is not None:\n",
    "            return len_\n",
    "\n",
    "        len_ = 0\n",
    "        for _ in iter(self):\n",
    "            len_ += 1\n",
    "\n",
    "        setattr(self, \"len_\", len_)\n",
    "        return len_"
   ]
  },
  {
   "cell_type": "code",
   "execution_count": 123,
   "metadata": {},
   "outputs": [
    {
     "name": "stdout",
     "output_type": "stream",
     "text": [
      "50\n",
      "(['want', 'to', 'go'], 'i')\n",
      "(['i', 'to', 'go', 'home'], 'want')\n",
      "(['i', 'want', 'go', 'home'], 'to')\n",
      "(['i', 'want', 'to', 'home'], 'go')\n"
     ]
    }
   ],
   "source": [
    "debug_dataset = Dataset(\"./data/debug.txt\", window_size=3)\n",
    "print(len(debug_dataset))\n",
    "\n",
    "for i, pair in enumerate(iter(debug_dataset)):\n",
    "    print(pair)\n",
    "    if i >= 3:\n",
    "        break\n",
    "\n",
    "del debug_dataset"
   ]
  },
  {
   "cell_type": "markdown",
   "metadata": {},
   "source": [
    "### 词表类\n",
    "\n",
    "`Vocab` 可以用 `token_to_idx` 把 token(str) 映射为索引 (int)，也可以用 `idx_to_token` 找到索引对应的 token。\n",
    "\n",
    "实例化 `Vocab` 有两种方法：\n",
    "1. 读取 `corpus` 构建词表。\n",
    "2. 通过调用 `Vocab.load_vocab`，可以从已训练的中构建 `Vocab` 实例。"
   ]
  },
  {
   "cell_type": "code",
   "execution_count": 124,
   "metadata": {},
   "outputs": [],
   "source": [
    "import os\n",
    "import warnings\n",
    "from collections import Counter\n",
    "from typing import Dict, Tuple\n",
    "\n",
    "class Vocab:\n",
    "    VOCAB_FILE = \"vocab.txt\"\n",
    "    UNK = \"<unk>\"\n",
    "\n",
    "    def __init__(self, corpus: str = None, max_vocab_size: int = -1):\n",
    "        \"\"\"\n",
    "        :param corpus:         语料文件路径\n",
    "        :param max_vocab_size: 最大词表数量，-1表示不做任何限制\n",
    "        \"\"\"\n",
    "        self._token_to_idx: Dict[str, int] = {}\n",
    "        self.token_freq: List[Tuple[str, int]] = []\n",
    "\n",
    "        if corpus is not None:\n",
    "            self.build_vocab(corpus, max_vocab_size)\n",
    "\n",
    "    def build_vocab(self, corpus: str, max_vocab_size: int = -1):\n",
    "        \"\"\" 统计词频，并保留高频词 \"\"\"\n",
    "        counter = Counter()\n",
    "        with open(corpus, encoding=\"utf8\") as f:\n",
    "            for line in f:\n",
    "                tokens = tokenizer(line)\n",
    "                counter.update(tokens)\n",
    "\n",
    "        print(f\"总Token数: {sum(counter.values())}\")\n",
    "\n",
    "        # 将找到的词按照词频从高到低排序\n",
    "        self.token_freq = [(self.UNK, 1)] + sorted(counter.items(),\n",
    "                                                   key=lambda x: x[1], reverse=True)\n",
    "        if max_vocab_size > 0:\n",
    "            self.token_freq = self.token_freq[:max_vocab_size]\n",
    "\n",
    "        print(f\"词表大小: {len(self.token_freq)}\")\n",
    "\n",
    "        for i, (token, _freq) in enumerate(self.token_freq):\n",
    "            self._token_to_idx[token] = i\n",
    "\n",
    "    def __len__(self):\n",
    "        return len(self.token_freq)\n",
    "\n",
    "    def __contains__(self, token: str):\n",
    "        return token in self._token_to_idx\n",
    "\n",
    "    def token_to_idx(self, token: str, warn: bool = False) -> int:\n",
    "        \"\"\" Map the token to index \"\"\"\n",
    "        token = token.lower()\n",
    "        if token not in self._token_to_idx:\n",
    "            if warn:\n",
    "                warnings.warn(f\"{token} => {self.UNK}\")\n",
    "            token = self.UNK\n",
    "        return self._token_to_idx[token]\n",
    "\n",
    "    def idx_to_token(self, idx: int) -> str:\n",
    "        \"\"\" Map the index to token \"\"\"\n",
    "        assert 0 <= idx < len(self)\n",
    "        return self.token_freq[idx][0]\n",
    "\n",
    "    def save_vocab(self, path: str):\n",
    "        with open(os.path.join(path, self.VOCAB_FILE), \"w\", encoding=\"utf8\") as f:\n",
    "            lines = [f\"{token} {freq}\" for token, freq in self.token_freq]\n",
    "            f.write(\"\\n\".join(lines))\n",
    "\n",
    "    @classmethod\n",
    "    def load_vocab(cls, path: str):\n",
    "        vocab = cls()\n",
    "\n",
    "        with open(os.path.join(path, cls.VOCAB_FILE), encoding=\"utf8\") as f:\n",
    "            lines = f.read().split(\"\\n\")\n",
    "\n",
    "        for i, line in enumerate(lines):\n",
    "            token, freq = line.split()\n",
    "            vocab.token_freq.append((token, int(freq)))\n",
    "            vocab._token_to_idx[token] = i\n",
    "\n",
    "        return vocab"
   ]
  },
  {
   "cell_type": "code",
   "execution_count": 125,
   "metadata": {},
   "outputs": [
    {
     "name": "stdout",
     "output_type": "stream",
     "text": [
      "总Token数: 50\n",
      "词表大小: 21\n",
      "[('<unk>', 1), ('want', 6), ('to', 6), ('go', 4), ('i', 3), ('home', 3), ('play', 3), ('like', 3), ('eating', 3), ('he', 3), ('she', 3), ('it', 2), ('is', 2), ('we', 2), ('useful', 1), ('awful', 1), ('can', 1), ('read', 1), ('books', 1), ('will', 1), ('now', 1)]\n"
     ]
    }
   ],
   "source": [
    "debug_vocab = Vocab(\"./data/debug.txt\")\n",
    "print(debug_vocab.token_freq)\n",
    "del debug_vocab"
   ]
  },
  {
   "cell_type": "markdown",
   "metadata": {},
   "source": [
    "## Word2Vec 实现\n",
    "\n",
    "本节将实现 Word2Vec 的 CBOW 模型，为了便于实现，本实验不引入 `Hierarchical Softmax` 和 `Negative Sampling` 等加速技巧，若同学们对这些技术感兴趣，可参考：[word2vec Parameter Learning Explained](https://arxiv.org/pdf/1411.2738.pdf)。"
   ]
  },
  {
   "cell_type": "markdown",
   "metadata": {},
   "source": [
    "TODO: 实现 one-hot 向量构建函数 (1分)\n",
    "\n",
    "需求：指定词向量的维度和需要置 1 的索引，返回类型为 `np.ndarray` 的 one-hot 行向量。"
   ]
  },
  {
   "cell_type": "code",
   "execution_count": 126,
   "metadata": {},
   "outputs": [
    {
     "name": "stdout",
     "output_type": "stream",
     "text": [
      "[0. 1. 0. 0.]\n"
     ]
    }
   ],
   "source": [
    "import numpy as np\n",
    "\n",
    "def one_hot(dim: int, idx: int) -> np.ndarray:\n",
    "    # TODO: 实现one-hot函数（1分）\n",
    "    enc = np.zeros(dim)\n",
    "    enc[idx] = 1\n",
    "    return enc\n",
    "\n",
    "print(one_hot(4, 1))"
   ]
  },
  {
   "cell_type": "markdown",
   "metadata": {},
   "source": [
    "TODO：实现 softmax (2分)\n",
    "\n",
    "> 注意数值溢出的可能"
   ]
  },
  {
   "cell_type": "code",
   "execution_count": 127,
   "metadata": {},
   "outputs": [
    {
     "name": "stdout",
     "output_type": "stream",
     "text": [
      "[7.80134161e-05 2.12062451e-04 5.76445508e-04 1.56694135e-03\n",
      " 4.25938820e-03 1.15782175e-02 3.14728583e-02 8.55520989e-02\n",
      " 2.32554716e-01 6.32149258e-01]\n"
     ]
    }
   ],
   "source": [
    "def softmax(x: np.ndarray) -> np.ndarray:\n",
    "    # TODO: 实现softmax函数（2分）\n",
    "    y = x - np.max(x)\n",
    "    return np.exp(y) / np.sum(np.exp(y))\n",
    "\n",
    "print(softmax(np.array([i for i in range(10)])))"
   ]
  },
  {
   "cell_type": "markdown",
   "metadata": {},
   "source": [
    "TODO：CBOW 类，请补全 `train_one_step` 中的代码。\n",
    "\n",
    "推荐按照 TODO 描述的步骤来实现（预计15行代码），也可在保证结果正确的前提下按照自己的思路来实现。\n",
    "\n",
    "> tips：建议使用 numpy 的向量化操作代替 Python 循环。\n",
    "> \n",
    "> 比如同样是实现两个向量 `a` 和 `b` 的内积，`np.dot(a,b)` 的运行效率可达纯 Python 实现的函数的百倍以上。同样的，向量外积也推荐使用 `np.outer(a,b)`。具体的函数功能可参考 numpy 文档。"
   ]
  },
  {
   "cell_type": "code",
   "execution_count": 128,
   "metadata": {},
   "outputs": [],
   "source": [
    "import os\n",
    "import pickle\n",
    "import time\n",
    "from tqdm import tqdm\n",
    "\n",
    "class CBOW:\n",
    "    def __init__(self, vocab: Vocab, vector_dim: int):\n",
    "        self.vocab = vocab\n",
    "        self.vector_dim = vector_dim\n",
    "\n",
    "        self.U = np.random.uniform(-1, 1, (len(self.vocab), self.vector_dim))  # vocab_size x vector_dim\n",
    "        self.V = np.random.uniform(-1, 1, (self.vector_dim, len(self.vocab)))  # vector_dim x vocab_size\n",
    "\n",
    "    def train(self, corpus: str, window_size: int, train_epoch: int, learning_rate: float, save_path: str = None):\n",
    "        dataset = Dataset(corpus, window_size)\n",
    "        start_time = time.time()\n",
    "\n",
    "        for epoch in range(1, train_epoch + 1):\n",
    "            self.train_one_epoch(epoch, dataset, learning_rate)\n",
    "            if save_path is not None:\n",
    "                self.save_model(save_path)\n",
    "\n",
    "        end_time = time.time()\n",
    "        print(f\"总耗时 {end_time - start_time:.2f}s\")\n",
    "\n",
    "    def train_one_epoch(self, epoch: int, dataset: Dataset, learning_rate: float):\n",
    "        steps, total_loss = 0, 0.0\n",
    "\n",
    "        with tqdm(iter(dataset), total=len(dataset), desc=f\"Epoch {epoch}\", ncols=80) as pbar:\n",
    "            for sample in pbar:\n",
    "                context_tokens, target_token = sample\n",
    "                loss = self.train_one_step(context_tokens, target_token, learning_rate)\n",
    "                total_loss += loss\n",
    "                steps += 1\n",
    "                if steps % 10 == 0:\n",
    "                    pbar.set_postfix({\"Avg. loss\": f\"{total_loss / steps:.2f}\"})\n",
    "\n",
    "        return total_loss / steps\n",
    "\n",
    "    def train_one_step(self, context_tokens: List[str], target_token: str, learning_rate: float) -> float:\n",
    "        \"\"\"\n",
    "        :param context_tokens:  目标词周围的词\n",
    "        :param target_token:    目标词\n",
    "        :param learning_rate:   学习率\n",
    "        :return:    loss值 (标量)\n",
    "        \"\"\"\n",
    "        C = len(context_tokens)\n",
    "\n",
    "        # TODO: 构造输入向量和目标向量（3分）\n",
    "        # context: 构造输入向量\n",
    "        # target:  目标one-hot向量\n",
    "        indices = [self.vocab.token_to_idx(token) for token in context_tokens]                          # indices: token_num x 1\n",
    "        context = np.mean([one_hot(len(self.vocab), idx) for idx in indices], axis=0).reshape(-1, 1)    # context: vocab_size x 1\n",
    "        target = one_hot(len(self.vocab), self.vocab.token_to_idx(target_token)).reshape(-1, 1)         # target: vocab_size x 1\n",
    "\n",
    "        # TODO: 前向步骤（3分）\n",
    "        h = np.matmul(self.U.T, context)    # h: vector_dim x 1\n",
    "        o = np.matmul(self.V.T, h)          # o: vocab_size x 1\n",
    "        y = softmax(o)                      # y: vocab_size x 1\n",
    "\n",
    "        # TODO: 计算loss（3分）\n",
    "        loss = -np.log(np.dot(y.T, target))[0][0]   # loss: scalar\n",
    "\n",
    "        # TODO: 更新参数（3分）\n",
    "        e = y - target                                                  # e: vocab_size x 1\n",
    "        self.U[indices] -= learning_rate * np.matmul(self.V, e).T / C   # U: vocab_size x vector_dim\n",
    "        self.V -= learning_rate * np.outer(h, e)                        # V: vector_dim x vocab_size\n",
    "        \n",
    "        return loss\n",
    "\n",
    "    def similarity(self, token1: str, token2: str):\n",
    "        \"\"\" 计算两个词的相似性 \"\"\"\n",
    "        v1 = self.U[self.vocab.token_to_idx(token1)]\n",
    "        v2 = self.U[self.vocab.token_to_idx(token2)]\n",
    "        v1 = v1 / np.linalg.norm(v1)\n",
    "        v2 = v2 / np.linalg.norm(v2)\n",
    "        return np.dot(v1, v2)\n",
    "\n",
    "    def most_similar_tokens(self, token: str, n: int):\n",
    "        \"\"\" 召回与token最相似的n个token \"\"\"\n",
    "        norm_U = self.U / np.linalg.norm(self.U, axis=1, keepdims=True)\n",
    "\n",
    "        idx = self.vocab.token_to_idx(token, warn=True)\n",
    "        v = norm_U[idx]\n",
    "\n",
    "        cosine_similarity = np.dot(norm_U, v)\n",
    "        nbest_idx = np.argsort(cosine_similarity)[-n:][::-1]\n",
    "\n",
    "        results = []\n",
    "        for idx in nbest_idx:\n",
    "            _token = self.vocab.idx_to_token(idx)\n",
    "            results.append((_token, cosine_similarity[idx]))\n",
    "\n",
    "        return results\n",
    "\n",
    "    def save_model(self, path: str):\n",
    "        \"\"\" 将模型保存到`path`路径下，如果不存在`path`会主动创建 \"\"\"\n",
    "        os.makedirs(path, exist_ok=True)\n",
    "        self.vocab.save_vocab(path)\n",
    "\n",
    "        with open(os.path.join(path, \"wv.pkl\"), \"wb\") as f:\n",
    "            param = {\"U\": self.U, \"V\": self.V}\n",
    "            pickle.dump(param, f)\n",
    "\n",
    "    @classmethod\n",
    "    def load_model(cls, path: str):\n",
    "        \"\"\" 从`path`加载模型 \"\"\"\n",
    "        vocab = Vocab.load_vocab(path)\n",
    "\n",
    "        with open(os.path.join(path, \"wv.pkl\"), \"rb\") as f:\n",
    "            param = pickle.load(f)\n",
    "\n",
    "        U, V = param[\"U\"], param[\"V\"]\n",
    "        model = cls(vocab, U.shape[1])\n",
    "        model.U, model.V = U, V\n",
    "\n",
    "        return model"
   ]
  },
  {
   "cell_type": "markdown",
   "metadata": {},
   "source": [
    "## 测试\n",
    "\n",
    "测试部分可用于验证 CBOW 实现的正确性，此部分的结果不计入总分。\n",
    "\n",
    "### 测试1\n",
    "\n",
    "本测试可用于调试，最终一个 epoch 的平均 loss 约为 0.5，并且 “i”、“he” 和 “she” 的相似性较高。"
   ]
  },
  {
   "cell_type": "code",
   "execution_count": 129,
   "metadata": {},
   "outputs": [
    {
     "name": "stdout",
     "output_type": "stream",
     "text": [
      "总Token数: 50\n",
      "词表大小: 21\n"
     ]
    },
    {
     "name": "stderr",
     "output_type": "stream",
     "text": [
      "Epoch 1: 100%|███████████████| 50/50 [00:00<00:00, 16308.83it/s, Avg. loss=2.89]\n",
      "Epoch 2: 100%|████████████████| 50/50 [00:00<00:00, 6003.18it/s, Avg. loss=1.54]\n",
      "Epoch 3: 100%|████████████████| 50/50 [00:00<00:00, 8982.15it/s, Avg. loss=1.05]\n",
      "Epoch 4: 100%|████████████████| 50/50 [00:00<00:00, 5492.95it/s, Avg. loss=0.82]\n",
      "Epoch 5: 100%|████████████████| 50/50 [00:00<00:00, 6773.09it/s, Avg. loss=0.76]\n",
      "Epoch 6: 100%|████████████████| 50/50 [00:00<00:00, 4442.37it/s, Avg. loss=0.67]\n",
      "Epoch 7: 100%|████████████████| 50/50 [00:00<00:00, 8682.42it/s, Avg. loss=0.53]\n",
      "Epoch 8: 100%|████████████████| 50/50 [00:00<00:00, 8592.42it/s, Avg. loss=0.54]\n",
      "Epoch 9: 100%|████████████████| 50/50 [00:00<00:00, 8297.34it/s, Avg. loss=0.52]\n",
      "Epoch 10: 100%|███████████████| 50/50 [00:00<00:00, 8665.92it/s, Avg. loss=0.50]"
     ]
    },
    {
     "name": "stdout",
     "output_type": "stream",
     "text": [
      "总耗时 0.07s\n",
      "[('i', 1.0), ('he', 0.9925540605382073), ('she', 0.9663378567626819), ('<unk>', 0.635699270231461), ('is', 0.39741235376377415)]\n",
      "[('he', 1.0), ('i', 0.9925540605382073), ('she', 0.98580084006031), ('<unk>', 0.6171017925293522), ('is', 0.35823278721958063)]\n",
      "[('she', 0.9999999999999999), ('he', 0.98580084006031), ('i', 0.9663378567626819), ('<unk>', 0.5012279262065747), ('is', 0.3869824668023122)]\n"
     ]
    },
    {
     "name": "stderr",
     "output_type": "stream",
     "text": [
      "\n"
     ]
    }
   ],
   "source": [
    "import random\n",
    "\n",
    "def test1():\n",
    "    random.seed(42)\n",
    "    np.random.seed(42)\n",
    "\n",
    "    vocab = Vocab(corpus=\"./data/debug.txt\")\n",
    "    cbow = CBOW(vocab, vector_dim=8)\n",
    "    cbow.train(corpus=\"./data/debug.txt\", window_size=3,\n",
    "               train_epoch=10, learning_rate=1.0)\n",
    "\n",
    "    print(cbow.most_similar_tokens(\"i\", 5))\n",
    "    print(cbow.most_similar_tokens(\"he\", 5))\n",
    "    print(cbow.most_similar_tokens(\"she\", 5))\n",
    "\n",
    "test1()"
   ]
  },
  {
   "cell_type": "markdown",
   "metadata": {},
   "source": [
    "### 测试2\n",
    "\n",
    "本测试将会在 `treebank.txt` 上训练词向量，为了加快训练流程，实验只保留高频的 4000 词，且词向量维度为 20。\n",
    "\n",
    "在每个 epoch 结束后，会在 `data/treebank.txt` 中测试词向量的召回能力。如下所示，`data/treebank.txt` 中每个样例为 `word` 以及对应的同义词，同义词从wordnet中获取。\n",
    "\n",
    "```\n",
    "[\n",
    "  \"about\",\n",
    "  [\n",
    "    \"most\",\n",
    "    \"virtually\",\n",
    "    \"around\",\n",
    "    \"almost\",\n",
    "    \"near\",\n",
    "    \"nearly\",\n",
    "    \"some\"\n",
    "  ]\n",
    "]\n",
    "```\n",
    "\n",
    "> 本阶段预计消耗 25 分钟，具体时间与 `train_one_step` 代码实现有关\n",
    ">\n",
    "> 最后一个 epoch 平均 loss 降至 5.1 左右，并且在同义词上的召回率约为 20% 左右"
   ]
  },
  {
   "cell_type": "code",
   "execution_count": 130,
   "metadata": {},
   "outputs": [
    {
     "name": "stdout",
     "output_type": "stream",
     "text": [
      "总Token数: 205068\n",
      "词表大小: 4000\n"
     ]
    },
    {
     "name": "stderr",
     "output_type": "stream",
     "text": [
      "Epoch 1: 100%|████████| 205058/205058 [02:46<00:00, 1232.03it/s, Avg. loss=5.99]\n"
     ]
    },
    {
     "name": "stdout",
     "output_type": "stream",
     "text": [
      "Recall rate: 8.28%\n"
     ]
    },
    {
     "name": "stderr",
     "output_type": "stream",
     "text": [
      "Epoch 2: 100%|████████| 205058/205058 [02:54<00:00, 1173.82it/s, Avg. loss=5.59]\n"
     ]
    },
    {
     "name": "stdout",
     "output_type": "stream",
     "text": [
      "Recall rate: 12.43%\n"
     ]
    },
    {
     "name": "stderr",
     "output_type": "stream",
     "text": [
      "Epoch 3: 100%|████████| 205058/205058 [02:45<00:00, 1235.77it/s, Avg. loss=5.44]\n"
     ]
    },
    {
     "name": "stdout",
     "output_type": "stream",
     "text": [
      "Recall rate: 13.61%\n"
     ]
    },
    {
     "name": "stderr",
     "output_type": "stream",
     "text": [
      "Epoch 4: 100%|████████| 205058/205058 [02:45<00:00, 1240.25it/s, Avg. loss=5.34]\n"
     ]
    },
    {
     "name": "stdout",
     "output_type": "stream",
     "text": [
      "Recall rate: 15.98%\n"
     ]
    },
    {
     "name": "stderr",
     "output_type": "stream",
     "text": [
      "Epoch 5: 100%|████████| 205058/205058 [02:46<00:00, 1231.18it/s, Avg. loss=5.26]\n"
     ]
    },
    {
     "name": "stdout",
     "output_type": "stream",
     "text": [
      "Recall rate: 16.57%\n"
     ]
    },
    {
     "name": "stderr",
     "output_type": "stream",
     "text": [
      "Epoch 6: 100%|████████| 205058/205058 [02:46<00:00, 1228.39it/s, Avg. loss=5.20]\n"
     ]
    },
    {
     "name": "stdout",
     "output_type": "stream",
     "text": [
      "Recall rate: 18.93%\n"
     ]
    },
    {
     "name": "stderr",
     "output_type": "stream",
     "text": [
      "Epoch 7: 100%|████████| 205058/205058 [03:06<00:00, 1100.42it/s, Avg. loss=5.15]\n"
     ]
    },
    {
     "name": "stdout",
     "output_type": "stream",
     "text": [
      "Recall rate: 19.82%\n"
     ]
    },
    {
     "name": "stderr",
     "output_type": "stream",
     "text": [
      "Epoch 8: 100%|████████| 205058/205058 [02:59<00:00, 1140.46it/s, Avg. loss=5.11]\n"
     ]
    },
    {
     "name": "stdout",
     "output_type": "stream",
     "text": [
      "Recall rate: 20.12%\n"
     ]
    },
    {
     "name": "stderr",
     "output_type": "stream",
     "text": [
      "Epoch 9: 100%|████████| 205058/205058 [02:50<00:00, 1201.72it/s, Avg. loss=5.08]\n"
     ]
    },
    {
     "name": "stdout",
     "output_type": "stream",
     "text": [
      "Recall rate: 19.82%\n"
     ]
    },
    {
     "name": "stderr",
     "output_type": "stream",
     "text": [
      "Epoch 10: 100%|███████| 205058/205058 [02:47<00:00, 1221.43it/s, Avg. loss=5.05]"
     ]
    },
    {
     "name": "stdout",
     "output_type": "stream",
     "text": [
      "Recall rate: 19.82%\n"
     ]
    },
    {
     "name": "stderr",
     "output_type": "stream",
     "text": [
      "\n"
     ]
    }
   ],
   "source": [
    "import json\n",
    "\n",
    "def calculate_recall_rate(model: CBOW, word_synonyms: List[Tuple[str, List[str]]], topn: int) -> float:\n",
    "    \"\"\" 测试CBOW的召回率 \"\"\"\n",
    "    hit, total = 0, 1e-9\n",
    "    for word, synonyms in word_synonyms:\n",
    "        synonyms = set(synonyms)\n",
    "        recalled = set([w for w, _ in model.most_similar_tokens(word, topn)])\n",
    "        hit += len(synonyms & recalled)\n",
    "        total += len(synonyms)\n",
    "\n",
    "    print(f\"Recall rate: {hit / total:.2%}\")\n",
    "    return hit / total\n",
    "\n",
    "def test2():\n",
    "    random.seed(42)\n",
    "    np.random.seed(42)\n",
    "\n",
    "    corpus = \"./data/treebank.txt\"\n",
    "    lr = 1e-1\n",
    "    topn = 40\n",
    "\n",
    "    vocab = Vocab(corpus, max_vocab_size=4000)\n",
    "    model = CBOW(vocab, vector_dim=20)\n",
    "\n",
    "    dataset = Dataset(corpus, window_size=4)\n",
    "\n",
    "    with open(\"data/synonyms.json\", encoding=\"utf8\") as f:\n",
    "        word_synonyms: List[Tuple[str, List[str]]] = json.load(f)\n",
    "\n",
    "    for epoch in range(1, 11):\n",
    "        model.train_one_epoch(epoch, dataset, learning_rate=lr)\n",
    "        calculate_recall_rate(model, word_synonyms, topn)\n",
    "\n",
    "test2()"
   ]
  },
  {
   "cell_type": "markdown",
   "metadata": {
    "collapsed": false
   },
   "source": [
    "（TODO：实验总结）\n",
    "\n",
    "> 1. 实现 `onehot` 向量构造函数时，由于词表维度较高，使用 `np.zeros` 构造向量在时间和空间上显著优于 `np.eye`\n",
    "> \n",
    "> 2. 实现 `softmax` 函数时，需要避免指数求和造成数值溢出，注意到\n",
    "> \n",
    "> $$ \\text{softmax}(\\boldsymbol{x}) = \\frac{\\exp(\\boldsymbol{x})}{\\sum_{i=1}^n \\exp(x_i)} = \\frac{\\exp(\\boldsymbol{x} - \\max(\\boldsymbol{x}))}{\\sum_{i=1}^n \\exp(x_i - \\max(\\boldsymbol{x}))} $$\n",
    "> \n",
    "> 因此，在每个维度上减去 $\\max(\\boldsymbol{x})$ 并不改变计算结果，该技巧可以有效避免数值溢出\n",
    ">\n",
    "> 3. 实现 `train_one_step` 函数时，严格按照如下公式计算\n",
    "> \n",
    ">     1. 向量构造\n",
    ">\n",
    ">     $$ \\boldsymbol{x} = \\frac{1}{C} \\sum_{i=1}^C \\boldsymbol{c}_i $$\n",
    ">\n",
    ">     2. 前向步骤\n",
    ">\n",
    ">     $$ \\begin{aligned} \\boldsymbol{h} &= \\boldsymbol{U}^T \\boldsymbol{x} \\\\ \\boldsymbol{o} &= \\boldsymbol{V}^T \\boldsymbol{h} \\\\ \\boldsymbol{y} &= \\text{softmax}(\\boldsymbol{o}) \\end{aligned} $$\n",
    ">\n",
    ">     3. 损失计算\n",
    ">\n",
    ">     $$ \\mathcal{L} = -\\log (\\boldsymbol{y}^T \\boldsymbol{t}) $$\n",
    ">\n",
    ">     4. 参数更新\n",
    ">\n",
    ">     $$ \\begin{aligned} \\boldsymbol{e} &= \\boldsymbol{y} - \\boldsymbol{t} \\\\ \\boldsymbol{U} &= \\boldsymbol{U} - \\eta \\cdot \\boldsymbol{x} \\otimes \\boldsymbol{e}^T \\boldsymbol{V}^T \\\\ \\boldsymbol{V} &= \\boldsymbol{V} - \\eta \\cdot \\boldsymbol{h} \\otimes \\boldsymbol{e} \\end{aligned} $$\n",
    ">\n",
    "> 其中，$\\boldsymbol{c}_i$ 表示上下文词向量，$\\boldsymbol{x}$ 表示输入层的输出，$\\boldsymbol{U}$ 和 $\\boldsymbol{V}$ 分别表示输入层和输出层的权重矩阵，$\\boldsymbol{h}$ 表示隐藏层的输出，$\\boldsymbol{o}$ 表示输出层的输出，$\\boldsymbol{y}$ 表示输出层的预测，$\\boldsymbol{t}$ 表示目标词向量，$\\mathcal{L}$ 表示损失函数，$\\boldsymbol{e}$ 表示输出层的误差，$\\eta$ 表示学习率，$\\otimes$ 表示向量外积\n",
    ">\n",
    "> 训练结果表明，CBOW 算法可以有效将单词编码为向量，具有较快的训练速度和较好的收敛性，适用于中小规模的词表\n",
    ">\n",
    "> 此外，充分利用向量运算可以显著提升训练速度，若需要进一步加速训练，可以考虑批量处理训练样本以提高并行化程度"
   ]
  }
 ],
 "metadata": {
  "kernelspec": {
   "display_name": "Python 3.7.9 ('main')",
   "language": "python",
   "name": "python3"
  },
  "language_info": {
   "codemirror_mode": {
    "name": "ipython",
    "version": 3
   },
   "file_extension": ".py",
   "mimetype": "text/x-python",
   "name": "python",
   "nbconvert_exporter": "python",
   "pygments_lexer": "ipython3",
   "version": "3.10.11"
  },
  "vscode": {
   "interpreter": {
    "hash": "f18f9dacbff0d5957274e7eab45e9a081b8e58c43f44c2ad827db9dd3cd49b6f"
   }
  }
 },
 "nbformat": 4,
 "nbformat_minor": 4
}
